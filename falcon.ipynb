{
 "cells": [
  {
   "cell_type": "code",
   "execution_count": 1,
   "metadata": {},
   "outputs": [
    {
     "data": {
      "text/plain": [
       "2"
      ]
     },
     "execution_count": 1,
     "metadata": {},
     "output_type": "execute_result"
    }
   ],
   "source": [
    "1+1"
   ]
  },
  {
   "cell_type": "code",
   "execution_count": 5,
   "metadata": {},
   "outputs": [
    {
     "name": "stderr",
     "output_type": "stream",
     "text": [
      "The model weights are not tied. Please use the `tie_weights` method before using the `infer_auto_device` function.\n",
      "Loading checkpoint shards: 100%|██████████| 2/2 [00:07<00:00,  3.91s/it]\n",
      "Some weights of the model checkpoint at tiiuae/falcon-7b were not used when initializing RWModel: ['lm_head.weight']\n",
      "- This IS expected if you are initializing RWModel from the checkpoint of a model trained on another task or with another architecture (e.g. initializing a BertForSequenceClassification model from a BertForPreTraining model).\n",
      "- This IS NOT expected if you are initializing RWModel from the checkpoint of a model that you expect to be exactly identical (initializing a BertForSequenceClassification model from a BertForSequenceClassification model).\n"
     ]
    }
   ],
   "source": [
    "from transformers import AutoTokenizer, AutoModelForCausalLM\n",
    "from transformers import AutoModel\n",
    "import transformers\n",
    "import torch\n",
    "\n",
    "model = \"tiiuae/falcon-7b\"\n",
    "\n",
    "tokenizer = AutoTokenizer.from_pretrained(model)\n",
    "\n",
    "model = AutoModel.from_pretrained(\n",
    "    \"tiiuae/falcon-7b\", \n",
    "    torch_dtype=torch.bfloat16,\n",
    "    trust_remote_code=True,\n",
    "    device_map=\"auto\",\n",
    ")\n",
    "\n",
    "# pipeline = transformers.pipeline(\n",
    "#     \"text-generation\",\n",
    "#     model=model,\n",
    "#     tokenizer=tokenizer,\n",
    "#     torch_dtype=torch.bfloat16,\n",
    "#     trust_remote_code=True,\n",
    "#     device_map=\"auto\",\n",
    "# )\n",
    "# sequences = pipeline(\n",
    "#    \"Girafatron is obsessed with giraffes, the most glorious animal on the face of this Earth. Giraftron believes all other animals are irrelevant when compared to the glorious majesty of the giraffe.\\nDaniel: Hello, Girafatron!\\nGirafatron:\",\n",
    "#     # max_length=200,\n",
    "#     # do_sample=True,\n",
    "#     # top_k=10,\n",
    "#     # num_return_sequences=1,\n",
    "#     # eos_token_id=tokenizer.eos_token_id,\n",
    "# )"
   ]
  },
  {
   "cell_type": "code",
   "execution_count": 6,
   "metadata": {},
   "outputs": [
    {
     "data": {
      "text/plain": [
       "RWModel(\n",
       "  (word_embeddings): Embedding(65024, 4544)\n",
       "  (h): ModuleList(\n",
       "    (0-31): 32 x DecoderLayer(\n",
       "      (input_layernorm): LayerNorm((4544,), eps=1e-05, elementwise_affine=True)\n",
       "      (self_attention): Attention(\n",
       "        (maybe_rotary): RotaryEmbedding()\n",
       "        (query_key_value): Linear(in_features=4544, out_features=4672, bias=False)\n",
       "        (dense): Linear(in_features=4544, out_features=4544, bias=False)\n",
       "        (attention_dropout): Dropout(p=0.0, inplace=False)\n",
       "      )\n",
       "      (mlp): MLP(\n",
       "        (dense_h_to_4h): Linear(in_features=4544, out_features=18176, bias=False)\n",
       "        (act): GELU(approximate='none')\n",
       "        (dense_4h_to_h): Linear(in_features=18176, out_features=4544, bias=False)\n",
       "      )\n",
       "    )\n",
       "  )\n",
       "  (ln_f): LayerNorm((4544,), eps=1e-05, elementwise_affine=True)\n",
       ")"
      ]
     },
     "execution_count": 6,
     "metadata": {},
     "output_type": "execute_result"
    }
   ],
   "source": [
    "model"
   ]
  },
  {
   "cell_type": "code",
   "execution_count": 8,
   "metadata": {},
   "outputs": [
    {
     "name": "stdout",
     "output_type": "stream",
     "text": [
      " თავდაპირველაღ ღმერთმა შექმნა ცა და მიწა.  მიწა იყო უსახო და უდაბური, ბნელი იდო უფსკრულზე და სული ღვთისა იძვროდა წყლებს ზემოთ.  თქვა ღმერთმა: იყოს ნათელი! და იქმნა ნათელი.  და ნახა ღმერთმა, რომ ნათელი კარგი იყო, და გაჰყარა ღმერთმა ნათელი და ბნელი.  ნათელს ღმერთმა უწოდა დღე და ბნელს უწოდა ღამე. იყო ს 3789044 ო თუ ვინმე რამეს მოაკლებს ამ წიგნის წინასწარმეტყველების სიტყვებს, ღმერთი მოაკლებს მას წილს სიცოცხლის ხიდან, წმიდა ქალაქიდან და იქიდან, რაც ჩაწერილია ამ წიგნში.  ამის დამმოწმებელი ამბობს: ჰო, მოვალ მალე! ამინ; ჰო, მოდი, უფალო იესო!  ჩვენი უფლის, იესო ქრისტეს მადლი ყველა თქვენგანთან. ამინ.  დასასრული.\n"
     ]
    }
   ],
   "source": [
    "import re\n",
    "import requests\n",
    "import os\n",
    "from pathlib import Path\n",
    "from bs4 import BeautifulSoup\n",
    "\n",
    "# text_source = \"https://github.com/karpathy/char-rnn/raw/master/data/tinyshakespeare/input.txt\"\n",
    "bible = open('data/bible.txt', 'r').read()\n",
    "bible = BeautifulSoup(bible, \"lxml\").text\n",
    "# Remove digits\n",
    "bible = bible[165:-55]\n",
    "bible = re.sub(r'\\d+.', '', bible)\n",
    "# Remove brackets, \n",
    "bible = re.sub( r'\\([^)]*\\)', '', bible)\n",
    "# Remove symbol ჲ\n",
    "bible = re.sub(r'ჲ', '', bible)\n",
    "bible = re.sub(r'\\*', '', bible)\n",
    "bible = re.sub(r'\\[', '', bible)\n",
    "bible = re.sub(r'\\]', '', bible)\n",
    "# Replace all different types of quotes with \"\n",
    "bible = re.sub(r'[\\u201c\\u201d\\u201e\\u201f\\u2033\\u2036]', '\"', bible)\n",
    "print(bible[:300], len(bible), bible[-300:])\n",
    "text = bible"
   ]
  },
  {
   "cell_type": "code",
   "execution_count": 30,
   "metadata": {},
   "outputs": [
    {
     "name": "stdout",
     "output_type": "stream",
     "text": [
      "თავდაპირველაღ ღმერთმა შექმნა ცა და მიწა tavdap’irvelagh ghmertma shekmna tsa da mits’a\n"
     ]
    }
   ],
   "source": [
    "# Latin to Georgian\n",
    "import re\n",
    "def latkar(s: str) -> str:\n",
    "    car = s\n",
    "    car = re.sub(r\"k’\", \"კ\", car)\n",
    "    car = re.sub(r\"t’\", \"ტ\", car)\n",
    "    car = re.sub(r\"p’\", \"პ\", car)\n",
    "    car = re.sub(r\"q’\", \"q\", car)\n",
    "    car = re.sub(r\"ts’\", \"წ\", car)\n",
    "    car = re.sub(r\"ch’\", \"ჭ\", car)\n",
    "    car = re.sub(r\"k'\", \"კ\", car)\n",
    "    car = re.sub(r\"t'\", \"ტ\", car)\n",
    "    car = re.sub(r\"p'\", \"პ\", car)\n",
    "    car = re.sub(r\"q'\", \"q\", car)\n",
    "    car = re.sub(r\"q\", \"ყ\", car)\n",
    "    car = re.sub(r\"ts'\", \"წ\", car)\n",
    "    car = re.sub(r\"ch'\", \"ჭ\", car)\n",
    "    car = re.sub(r\"gh\", \"ღ\", car)\n",
    "    car = re.sub(r\"sh\", \"შ\", car)\n",
    "    car = re.sub(r\"ch\", \"ჩ\", car)\n",
    "    car = re.sub(r\"ts\", \"ც\", car)\n",
    "    car = re.sub(r\"dz\", \"ძ\", car)\n",
    "    car = re.sub(r\"kh\", \"ხ\", car)\n",
    "    car = re.sub(r\"zh\", \"ჟ\", car)\n",
    "    car = re.sub(r\"a\", \"ა\", car)\n",
    "    car = re.sub(r\"b\", \"ბ\", car)\n",
    "    car = re.sub(r\"g\", \"გ\", car)\n",
    "    car = re.sub(r\"d\", \"დ\", car)\n",
    "    car = re.sub(r\"e\", \"ე\", car)\n",
    "    car = re.sub(r\"v\", \"ვ\", car)\n",
    "    car = re.sub(r\"z\", \"ზ\", car)\n",
    "    car = re.sub(r\"t\", \"თ\", car)\n",
    "    car = re.sub(r\"i\", \"ი\", car)\n",
    "    car = re.sub(r\"l\", \"ლ\", car)\n",
    "    car = re.sub(r\"m\", \"მ\", car)\n",
    "    car = re.sub(r\"n\", \"ნ\", car)\n",
    "    car = re.sub(r\"o\", \"ო\", car)\n",
    "    car = re.sub(r\"r\", \"რ\", car)\n",
    "    car = re.sub(r\"s\", \"ს\", car)\n",
    "    car = re.sub(r\"u\", \"უ\", car)\n",
    "    car = re.sub(r\"p\", \"ფ\", car)\n",
    "    car = re.sub(r\"k\", \"ქ\", car)\n",
    "    car = re.sub(r\"j\", \"ჯ\", car)\n",
    "    car = re.sub(r\"h\", \"ჰ\", car)\n",
    "\n",
    "\n",
    "    car = re.sub(r\"y\", \"ჲ\", car)\n",
    "    car = re.sub(r\"[ƨə]\", \"ჷ\", car)\n",
    "    car = re.sub(r\"[ʔꞇ]\", \"ჸ\", car)\n",
    "\n",
    "    return car\n",
    "\n",
    "def karlat(s: str) -> str:\n",
    "    car = s\n",
    "    car = re.sub(\"ა\", \"a\", car)\n",
    "    car = re.sub(\"ბ\", \"b\", car)\n",
    "    car = re.sub(\"გ\", \"g\", car)\n",
    "    car = re.sub(\"დ\", \"d\", car)\n",
    "    car = re.sub(\"ე\", \"e\", car)\n",
    "    car = re.sub(\"ვ\", \"v\", car)\n",
    "    car = re.sub(\"ზ\", \"z\", car)\n",
    "    car = re.sub(\"თ\", \"t\", car)\n",
    "    car = re.sub(\"ი\", \"i\", car)\n",
    "    car = re.sub(\"კ\", \"k’\", car)\n",
    "    car = re.sub(\"ლ\", \"l\", car)\n",
    "    car = re.sub(\"მ\", \"m\", car)\n",
    "    car = re.sub(\"ნ\", \"n\", car)\n",
    "    car = re.sub(\"ო\", \"o\", car)\n",
    "    car = re.sub(\"პ\", \"p’\", car)\n",
    "    car = re.sub(\"ჟ\", \"zh\", car)\n",
    "    car = re.sub(\"რ\", \"r\", car)\n",
    "    car = re.sub(\"ს\", \"s\", car)\n",
    "    car = re.sub(\"ტ\", \"t’\", car)\n",
    "    car = re.sub(\"უ\", \"u\", car)\n",
    "    car = re.sub(\"ფ\", \"p\", car)\n",
    "    car = re.sub(\"ქ\", \"k\", car)\n",
    "    car = re.sub(\"ღ\", \"gh\", car)\n",
    "    car = re.sub(\"ყ\", \"q’\", car)\n",
    "    car = re.sub(\"შ\", \"sh\", car)\n",
    "    car = re.sub(\"ჩ\", \"ch\", car)\n",
    "    car = re.sub(\"ც\", \"ts\", car)\n",
    "    car = re.sub(\"ძ\", \"dz\", car)\n",
    "    car = re.sub(\"წ\", \"ts’\", car)\n",
    "    car = re.sub(\"ჭ\", \"ch’\", car)\n",
    "    car = re.sub(\"ხ\", \"kh\", car)\n",
    "    car = re.sub(\"ჯ\", \"j\", car)\n",
    "    car = re.sub(\"ჰ\", \"h\", car)\n",
    "\n",
    "    # mingrelien\n",
    "    car = re.sub(\"ჲ\", \"y\", car)\n",
    "    car = re.sub(\"ჷ\", \"ə\", car)\n",
    "    car = re.sub(\"ჸ\", \"ʔ\", car)\n",
    "    return car\n",
    "\n",
    "kar = latkar('tavdap’irvelagh ghmertma shekmna tsa da mits’a')\n",
    "lat = karlat(kar)\n",
    "print(kar, lat)"
   ]
  },
  {
   "cell_type": "code",
   "execution_count": 25,
   "metadata": {},
   "outputs": [
    {
     "name": "stdout",
     "output_type": "stream",
     "text": [
      "73 თავდაპირველად ღმერთმა შექმნა ცა და მიწა\n",
      "22 tavdap’irvelagh ghmertma shekmna tsa da mits’a\n",
      "10 At first God created the heaven and the earth.\n"
     ]
    }
   ],
   "source": [
    "text[:100]\n",
    "tokenizer.tokenize('სასასა')\n",
    "en = tokenizer.encode(\n",
    "    'თავდაპირველად ღმერთმა შექმნა ცა და მიწა',\n",
    ")\n",
    "dec = tokenizer.decode(en)\n",
    "print(len(en), dec)\n",
    "\n",
    "\n",
    "text[:100]\n",
    "tokenizer.tokenize('სასასა')\n",
    "en = tokenizer.encode(\n",
    "    'tavdap’irvelagh ghmertma shekmna tsa da mits’a',\n",
    ")\n",
    "dec = tokenizer.decode(en)\n",
    "print(len(en), dec)\n",
    "\n",
    "\n",
    "\n",
    "en = tokenizer.encode(\n",
    "    'At first God created the heaven and the earth.',\n",
    ")\n",
    "dec = tokenizer.decode(en)\n",
    "print(len(en), dec)"
   ]
  },
  {
   "cell_type": "code",
   "execution_count": null,
   "metadata": {},
   "outputs": [],
   "source": []
  }
 ],
 "metadata": {
  "kernelspec": {
   "display_name": "torch",
   "language": "python",
   "name": "python3"
  },
  "language_info": {
   "codemirror_mode": {
    "name": "ipython",
    "version": 3
   },
   "file_extension": ".py",
   "mimetype": "text/x-python",
   "name": "python",
   "nbconvert_exporter": "python",
   "pygments_lexer": "ipython3",
   "version": "3.10.11"
  },
  "orig_nbformat": 4
 },
 "nbformat": 4,
 "nbformat_minor": 2
}
